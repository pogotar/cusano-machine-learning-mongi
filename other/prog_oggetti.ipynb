{
 "cells": [
  {
   "attachments": {},
   "cell_type": "markdown",
   "metadata": {},
   "source": [
    "#### esercizi  a caso"
   ]
  },
  {
   "attachments": {},
   "cell_type": "markdown",
   "metadata": {},
   "source": [
    "terne pitagoriche dei numeri da 1 ad n tali che $a^2 + b^2 = c^2$    con $a < b < c < n$"
   ]
  },
  {
   "cell_type": "code",
   "execution_count": 35,
   "metadata": {},
   "outputs": [
    {
     "name": "stdout",
     "output_type": "stream",
     "text": [
      "3 4 5\n",
      "5 12 13\n",
      "6 8 10\n",
      "7 24 25\n",
      "8 15 17\n",
      "9 12 15\n",
      "9 40 41\n",
      "10 24 26\n",
      "12 16 20\n",
      "12 35 37\n",
      "15 20 25\n",
      "15 36 39\n",
      "16 30 34\n",
      "18 24 30\n",
      "20 21 29\n",
      "21 28 35\n",
      "24 32 40\n",
      "27 36 45\n"
     ]
    }
   ],
   "source": [
    "\n",
    "def print_pythagorean(n):\n",
    "    for a in range(1,n):\n",
    "        for b in range (a+1, n):\n",
    "            for c in range (b+1, n):\n",
    "                if a**2 + b**2 == c**2:\n",
    "                    print(a, b, c)\n",
    "\n",
    "# Main\n",
    "n = 50\n",
    "print_pythagorean(n)"
   ]
  },
  {
   "cell_type": "code",
   "execution_count": 36,
   "metadata": {},
   "outputs": [
    {
     "name": "stdout",
     "output_type": "stream",
     "text": [
      "3 4 5\n",
      "5 12 13\n",
      "6 8 10\n",
      "7 24 25\n",
      "8 15 17\n",
      "9 12 15\n",
      "9 40 41\n",
      "10 24 26\n",
      "12 16 20\n",
      "12 35 37\n",
      "15 20 25\n",
      "15 36 39\n",
      "16 30 34\n",
      "18 24 30\n",
      "20 21 29\n",
      "21 28 35\n",
      "24 32 40\n",
      "27 36 45\n"
     ]
    }
   ],
   "source": [
    "# non c'è bisogno di provare tutti i valori di a di b e c ecc...\n",
    "# provo tutte le a e b, calcolo c e vedo se rispetta le condizioni\n",
    "# metodo un filo più efficiente\n",
    "import math\n",
    "\n",
    "def print_pythagorean(n):\n",
    "    for a in range(1,n):\n",
    "        for b in range (a+1, n):\n",
    "            c = math.sqrt(a**2 + b**2)\n",
    "            if c<n and c == int(c):\n",
    "                print(a, b, int(c))\n",
    "\n",
    "# Main\n",
    "n = 50\n",
    "print_pythagorean(n)"
   ]
  },
  {
   "attachments": {},
   "cell_type": "markdown",
   "metadata": {},
   "source": [
    "# Prog oggetti\n",
    "definire nupovi tipi di dati oltre quelli predefiniti"
   ]
  },
  {
   "attachments": {},
   "cell_type": "markdown",
   "metadata": {},
   "source": [
    "### es punto"
   ]
  },
  {
   "cell_type": "code",
   "execution_count": 37,
   "metadata": {},
   "outputs": [
    {
     "name": "stdout",
     "output_type": "stream",
     "text": [
      "2.5 1.3\n",
      "0 2.6\n",
      "1 2\n",
      "rotazione 1.2246467991473532e-16 2.0\n"
     ]
    }
   ],
   "source": [
    "# definisco un nuovo dato point per descrivere i punti nel piano\n",
    "# gli oggetti possono avere degli attributi\n",
    "\n",
    "import math\n",
    "\n",
    "class Point:\n",
    "    pass\n",
    "\n",
    "def rotate(p, angle): # posso definire funzioni che manipolano oggetti\n",
    "    newx = p.x * math.cos(angle) - p.y * math.sin(angle)\n",
    "    newy = p.x * math.sin(angle) - p.y * math.cos(angle)\n",
    "    p.x = newx\n",
    "    p.y = newy # come vedi non devo fare return \n",
    "\n",
    "\n",
    "## MAIN\n",
    "p = Point() # p è un istanza o un membro della classe di oggetti di tipo point\n",
    "p.x = 2.5 # creo un nuovo attributo dell'oggetto\n",
    "p.y = 1.3\n",
    "print(p.x, p.y)\n",
    "p.x = 0 ; p.y *= 2\n",
    "print(p.x, p.y)\n",
    "\n",
    "# se avessi scritto q = p  entrambe le variabili fanno riferimento allo stesso oggetto\n",
    "# modificare uno modifica anche l'altro\n",
    "q = Point()     \n",
    "q.x = 1 ; q.y = 2\n",
    "print(q.x, q.y)\n",
    "\n",
    "p.x = 2.0 # creo un nuovo attributo dell'oggetto\n",
    "p.y = 0.0\n",
    "rotate(p, math.pi/2) \n",
    "print(\"rotazione\", p.x, p.y)"
   ]
  },
  {
   "cell_type": "code",
   "execution_count": 38,
   "metadata": {},
   "outputs": [
    {
     "name": "stdout",
     "output_type": "stream",
     "text": [
      "1.5 -1\n",
      "0 0\n",
      "rotazione 1.0 1.5\n",
      "<1.0, 1.5>\n",
      "<110, 205>\n"
     ]
    }
   ],
   "source": [
    "import math\n",
    "\n",
    "class Point:\n",
    "\n",
    "    # metodo speciale!   si attiva sempre questa appena definito l'oggetto\n",
    "    def __init__(self, initx=0, inity=0): \n",
    "        # =0 vuol dire che se non passo parametri quando definisco oggetto di default da 0\n",
    "        self.x = initx\n",
    "        self.y = inity\n",
    "\n",
    "    # metodo speciale!   così quando stampo oggetto lo descrivo bene\n",
    "    def __str__(self):\n",
    "        return \"<\" + str(self.x) + \", \" + str(self.y) + \">\"\n",
    "\n",
    "    def rotate(self, angle): # funzioni definite dentro ad oggetti chiamati metodi\n",
    "        newx = self.x * math.cos(angle) - self.y * math.sin(angle)\n",
    "        newy = self.x * math.sin(angle) - self.y * math.cos(angle)\n",
    "        self.x = newx\n",
    "        self.y = newy \n",
    "\n",
    "    def move_by(self, dx, dy):\n",
    "        self.x += dx\n",
    "        self.y += dy\n",
    "\n",
    "\n",
    "## MAIN\n",
    "p = Point(1.5, -1) # p è un istanza o un membro della classe di oggetti di tipo point\n",
    "q = Point()\n",
    "\n",
    "print(p.x, p.y)\n",
    "print(q.x, q.y)\n",
    "\n",
    "p.rotate(math.pi/2) # ora posso chiamare il metodo per quell'oggetto\n",
    "print(\"rotazione\", p.x, p.y)\n",
    "\n",
    "print(p)\n",
    "\n",
    "p = Point(100, 200)\n",
    "p.move_by(10,5)\n",
    "print(p)"
   ]
  },
  {
   "cell_type": "markdown",
   "metadata": {},
   "source": [
    "### es hello"
   ]
  }
 ],
 "metadata": {
  "kernelspec": {
   "display_name": "Python 3",
   "language": "python",
   "name": "python3"
  },
  "language_info": {
   "codemirror_mode": {
    "name": "ipython",
    "version": 3
   },
   "file_extension": ".py",
   "mimetype": "text/x-python",
   "name": "python",
   "nbconvert_exporter": "python",
   "pygments_lexer": "ipython3",
   "version": "3.11.3"
  },
  "orig_nbformat": 4
 },
 "nbformat": 4,
 "nbformat_minor": 2
}
