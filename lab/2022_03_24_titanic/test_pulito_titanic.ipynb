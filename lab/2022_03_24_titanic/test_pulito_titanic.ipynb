{
 "cells": [
  {
   "attachments": {},
   "cell_type": "markdown",
   "metadata": {},
   "source": [
    "# Titanic\n",
    "\n",
    "- **X**   features\n",
    "    - ticket class (1°, 2°, 3°)\n",
    "    - sex (male = 0   feamle = 1)\n",
    "    - age [years]\n",
    "    - n siblings and spouses aboard\n",
    "    - n  parents and childrea aboard\n",
    "    - passenger fare \n",
    "- **Y**   class\n",
    "    - 1 survived   0 dead"
   ]
  },
  {
   "cell_type": "markdown",
   "metadata": {},
   "source": [
    "### sigmoid & logit"
   ]
  },
  {
   "cell_type": "code",
   "execution_count": null,
   "metadata": {},
   "outputs": [],
   "source": [
    "def logreg_inference(x, w, b):\n",
    "    z = logit(x, w, b) # <---\n",
    "    \n",
    "    return 1 / ( 1 + np.exp(-z))\n",
    "\n",
    "\n",
    "def logit(x, w, b):\n",
    "    z = (x @ w) + b\n",
    "\n",
    "    return z "
   ]
  },
  {
   "attachments": {},
   "cell_type": "markdown",
   "metadata": {},
   "source": [
    "## point 3\n",
    "Write an evaluation script that assesses the performance of the model on the test set.\n",
    "You can manually copy the parameters obtained with the training script, or you can\n",
    "use the np.load and np.save functions (https://numpy.org/doc/1.18/reference/\n",
    "generated/numpy.load.html). Then answers to the following questions:\n",
    "1. what is the test accuracy of the model?\n",
    "2. Is the model overfitting or underfitting the training set?\n",
    "3. How can you increase the performance of the model?"
   ]
  },
  {
   "cell_type": "code",
   "execution_count": 1,
   "metadata": {},
   "outputs": [
    {
     "name": "stdout",
     "output_type": "stream",
     "text": [
      "[-1.08154265e+00  2.77893126e+00 -3.75564535e-02 -3.12258180e-01\n",
      " -9.51371430e-02  2.66126949e-03] 1.9822179430101414\n"
     ]
    }
   ],
   "source": [
    "import numpy as np\n",
    "# import matplotlib.pyplot as plt\n",
    "\n",
    "# Load the parameters of the trained model.\n",
    "data_train = np.load(\"model.npz\")\n",
    "w = data_train[\"arr_0\"]\n",
    "b = data_train[\"arr_1\"]\n",
    "print(w, b)"
   ]
  }
 ],
 "metadata": {
  "kernelspec": {
   "display_name": "Python 3",
   "language": "python",
   "name": "python3"
  },
  "language_info": {
   "codemirror_mode": {
    "name": "ipython",
    "version": 3
   },
   "file_extension": ".py",
   "mimetype": "text/x-python",
   "name": "python",
   "nbconvert_exporter": "python",
   "pygments_lexer": "ipython3",
   "version": "3.10.10"
  },
  "orig_nbformat": 4
 },
 "nbformat": 4,
 "nbformat_minor": 2
}
