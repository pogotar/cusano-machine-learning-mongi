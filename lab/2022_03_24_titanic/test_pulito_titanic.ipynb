{
 "cells": [
  {
   "attachments": {},
   "cell_type": "markdown",
   "metadata": {},
   "source": [
    "# Titanic\n",
    "\n",
    "- **X**   features\n",
    "    - ticket class (1°, 2°, 3°)\n",
    "    - sex (male = 0   feamle = 1)\n",
    "    - age [years]\n",
    "    - n siblings and spouses aboard\n",
    "    - n  parents and childrea aboard\n",
    "    - passenger fare \n",
    "- **Y**   class\n",
    "    - 1 survived   0 dead"
   ]
  },
  {
   "attachments": {},
   "cell_type": "markdown",
   "metadata": {},
   "source": [
    "## point 3\n",
    "Write an evaluation script that assesses the performance of the model on the test set.\n",
    "You can manually copy the parameters obtained with the training script, or you can\n",
    "use the np.load and np.save functions (https://numpy.org/doc/1.18/reference/\n",
    "generated/numpy.load.html). Then answers to the following questions:\n",
    "1. what is the test accuracy of the model?\n",
    "2. Is the model overfitting or underfitting the training set?\n",
    "3. How can you increase the performance of the model?"
   ]
  }
 ],
 "metadata": {
  "language_info": {
   "name": "python"
  },
  "orig_nbformat": 4
 },
 "nbformat": 4,
 "nbformat_minor": 2
}
